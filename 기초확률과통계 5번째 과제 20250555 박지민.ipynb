{
  "nbformat": 4,
  "nbformat_minor": 0,
  "metadata": {
    "colab": {
      "provenance": []
    },
    "kernelspec": {
      "name": "python3",
      "display_name": "Python 3"
    },
    "language_info": {
      "name": "python"
    }
  },
  "cells": [
    {
      "cell_type": "code",
      "execution_count": 4,
      "metadata": {
        "colab": {
          "base_uri": "https://localhost:8080/",
          "height": 110
        },
        "id": "FEEB0i5wLWLE",
        "outputId": "887b3009-b295-4d80-e219-38c55929cbf8"
      },
      "outputs": [
        {
          "output_type": "error",
          "ename": "SyntaxError",
          "evalue": "invalid syntax (ipython-input-3969714051.py, line 6)",
          "traceback": [
            "\u001b[0;36m  File \u001b[0;32m\"/tmp/ipython-input-3969714051.py\"\u001b[0;36m, line \u001b[0;32m6\u001b[0m\n\u001b[0;31m    for_inrange(trials):\u001b[0m\n\u001b[0m                       ^\u001b[0m\n\u001b[0;31mSyntaxError\u001b[0m\u001b[0;31m:\u001b[0m invalid syntax\n"
          ]
        }
      ],
      "source": [
        "import random\n",
        "\n",
        "trials = 10000\n",
        "even_rolls_count=0\n",
        "\n",
        "for_inrange(trials):\n",
        "  roll=random.randint(1,6)\n",
        "\n",
        "  if roll%2==0:\n",
        "    even_rolls_count+=1\n",
        "probabillty_even=even_rolls_count/trials\n",
        "\n",
        "probabillty_even"
      ]
    },
    {
      "cell_type": "code",
      "source": [
        "S={1,2,3,4,5,6}\n",
        "A={1,2}\n",
        "B={1,3,5}\n",
        "\n",
        "union_AB=A.union(B)\n",
        "\n",
        "intersection_AB=A.intersection\n",
        "\n",
        "complement_A=S.difference(A)\n",
        "\n",
        "complement_B=S.difference(B)\n",
        "union_AB, intersection_AB,complement_A,complement_B"
      ],
      "metadata": {
        "colab": {
          "base_uri": "https://localhost:8080/"
        },
        "id": "UHhGSwD5MIga",
        "outputId": "35b46662-fed1-4f91-ba6f-15793de93945"
      },
      "execution_count": 5,
      "outputs": [
        {
          "output_type": "execute_result",
          "data": {
            "text/plain": [
              "({1, 2, 3, 5}, <function set.intersection>, {3, 4, 5, 6}, {2, 4, 6})"
            ]
          },
          "metadata": {},
          "execution_count": 5
        }
      ]
    },
    {
      "cell_type": "code",
      "source": [
        "red_balls=2\n",
        "blue_balls=2\n",
        "green_balls=5\n",
        "\n",
        "favorable_outcomes=red_balls\n",
        "\n",
        "total_outcomes=red_balls+blue_balls+green_balls\n",
        "\n",
        "probabillty+favorable_outcomes/total_outcomes\n",
        "\n",
        "probabillty"
      ],
      "metadata": {
        "colab": {
          "base_uri": "https://localhost:8080/",
          "height": 221
        },
        "id": "2PtLz0-MNSzI",
        "outputId": "9ee3320c-d73a-4bcf-d09f-4d057bcc79e7"
      },
      "execution_count": 6,
      "outputs": [
        {
          "output_type": "error",
          "ename": "NameError",
          "evalue": "name 'probabillty' is not defined",
          "traceback": [
            "\u001b[0;31m---------------------------------------------------------------------------\u001b[0m",
            "\u001b[0;31mNameError\u001b[0m                                 Traceback (most recent call last)",
            "\u001b[0;32m/tmp/ipython-input-3913081936.py\u001b[0m in \u001b[0;36m<cell line: 0>\u001b[0;34m()\u001b[0m\n\u001b[1;32m      7\u001b[0m \u001b[0mtotal_outcomes\u001b[0m\u001b[0;34m=\u001b[0m\u001b[0mred_balls\u001b[0m\u001b[0;34m+\u001b[0m\u001b[0mblue_balls\u001b[0m\u001b[0;34m+\u001b[0m\u001b[0mgreen_balls\u001b[0m\u001b[0;34m\u001b[0m\u001b[0;34m\u001b[0m\u001b[0m\n\u001b[1;32m      8\u001b[0m \u001b[0;34m\u001b[0m\u001b[0m\n\u001b[0;32m----> 9\u001b[0;31m \u001b[0mprobabillty\u001b[0m\u001b[0;34m+\u001b[0m\u001b[0mfavorable_outcomes\u001b[0m\u001b[0;34m/\u001b[0m\u001b[0mtotal_outcomes\u001b[0m\u001b[0;34m\u001b[0m\u001b[0;34m\u001b[0m\u001b[0m\n\u001b[0m\u001b[1;32m     10\u001b[0m \u001b[0;34m\u001b[0m\u001b[0m\n\u001b[1;32m     11\u001b[0m \u001b[0mprobabillty\u001b[0m\u001b[0;34m\u001b[0m\u001b[0;34m\u001b[0m\u001b[0m\n",
            "\u001b[0;31mNameError\u001b[0m: name 'probabillty' is not defined"
          ]
        }
      ]
    },
    {
      "cell_type": "code",
      "source": [
        "import numpy as np\n",
        "import matplotlib.pyplot as plt\n",
        "\n",
        "n_throws_short=1000\n",
        "\n",
        "throws_short=np.random.randint(1,7,size=n_throws_short)\n",
        "\n",
        "fours_count_short=np.zeros(n_throws_short)\n",
        "\n",
        "for i in range(1,n_throws_short):\n",
        "  fours_count_short[i]=fours_count_short[i-1]+(throws_short[i]==4)\n",
        "\n",
        "probabillty_short=fours_count_short/np.arange(1,n_throws_short+1)\n"
      ],
      "metadata": {
        "id": "IPhseCKoNpKQ"
      },
      "execution_count": 12,
      "outputs": []
    },
    {
      "cell_type": "code",
      "source": [],
      "metadata": {
        "id": "-56k2Z8MOgUb"
      },
      "execution_count": null,
      "outputs": []
    }
  ]
}
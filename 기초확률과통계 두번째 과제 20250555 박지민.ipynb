{
 "cells": [
  {
   "cell_type": "code",
   "execution_count": 3,
   "id": "04c59ba0-046c-44d4-a0b0-7c8793671043",
   "metadata": {},
   "outputs": [
    {
     "name": "stdout",
     "output_type": "stream",
     "text": [
      "[6, 5, 4, 3, 2]\n"
     ]
    }
   ],
   "source": [
    "a=[2,3,4,5,6]\n",
    "rev_a = []\n",
    "for _ in range(len(a)):\n",
    "    rev_a.append(a.pop())\n",
    "\n",
    "print(rev_a)"
   ]
  },
  {
   "cell_type": "code",
   "execution_count": null,
   "id": "922727a5-fadd-4242-9ef4-69bdbfd3e3b0",
   "metadata": {},
   "outputs": [],
   "source": []
  }
 ],
 "metadata": {
  "kernelspec": {
   "display_name": "Python 3 (ipykernel)",
   "language": "python",
   "name": "python3"
  },
  "language_info": {
   "codemirror_mode": {
    "name": "ipython",
    "version": 3
   },
   "file_extension": ".py",
   "mimetype": "text/x-python",
   "name": "python",
   "nbconvert_exporter": "python",
   "pygments_lexer": "ipython3",
   "version": "3.12.7"
  }
 },
 "nbformat": 4,
 "nbformat_minor": 5
}
